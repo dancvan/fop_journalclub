{
 "cells": [
  {
   "cell_type": "markdown",
   "id": "12b81146-865e-47a3-ac95-22dc7614f094",
   "metadata": {},
   "source": [
    "# Ray Transfer Matrices:"
   ]
  },
  {
   "cell_type": "markdown",
   "id": "16acb5a3-4054-45ad-8886-9c56a70d5fcc",
   "metadata": {},
   "source": [
    "## Some geometry review:\n",
    "\n",
    "#### What is a ray?\n",
    "<i> A geometric object that has a well defined direction but infinte length </i>\n",
    "\n",
    "#### Within a two-dimensional plane, what quantities would we like to know to fully characterize a ray?\n",
    "<i> An initial coordinate (or point of origin) ($y,z$) and an angle ($\\theta$) characterizing an angle between the ray and the axis of propogation ($z$)</i>\n"
   ]
  },
  {
   "cell_type": "markdown",
   "id": "4fbc4a89-5ba0-479b-b850-ba0fce9c21b5",
   "metadata": {},
   "source": [
    "## Some physics / ray optics review:\n",
    "\n",
    "When propogating a ray of light, we assume the <u>paraxial approximation</u>, which assumes that within our two dimensional coordinate system, the amount of permissable locations of the ray along the y-axis, is much much smaller than the amount of permissable locations along the z-axis (or another way to say this: z>>y). \n",
    "\n",
    "With this approximation, we are guaranteed that a ray will mostly propogate along the z-axis, while still needing to know how the ray moves away from the axis of propogation. The values that describe this movement away from the axis of propogation are an initial value of y and an angle describing the direction of the ray's propogation relative to the propogation axis. To characterize these two values, we create a the vector:\n",
    "\n",
    "$$\n",
    "\\vec{r} = \\begin{bmatrix} d \\\\ \\theta \\end{bmatrix}\n",
    "$$\n",
    "\n"
   ]
  },
  {
   "cell_type": "markdown",
   "id": "2ebf98d2-1635-4175-b732-46677d73c451",
   "metadata": {},
   "source": [
    "From here, we like to know how optical elements placed along the longitudinal axis transform the ray's values of $d$ and $\\theta$. Most standard optical elements can be well characterized by the library of ray transfer matrices."
   ]
  },
  {
   "cell_type": "code",
   "execution_count": null,
   "id": "5c995369-e589-464a-99fd-7af2535e07c0",
   "metadata": {},
   "outputs": [],
   "source": []
  }
 ],
 "metadata": {
  "kernelspec": {
   "display_name": "Python 3 (ipykernel)",
   "language": "python",
   "name": "python3"
  },
  "language_info": {
   "codemirror_mode": {
    "name": "ipython",
    "version": 3
   },
   "file_extension": ".py",
   "mimetype": "text/x-python",
   "name": "python",
   "nbconvert_exporter": "python",
   "pygments_lexer": "ipython3",
   "version": "3.11.6"
  }
 },
 "nbformat": 4,
 "nbformat_minor": 5
}
