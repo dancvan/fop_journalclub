{
 "cells": [
  {
   "cell_type": "code",
   "execution_count": 1,
   "id": "1ddecb21-09ad-4948-96ae-72e024160302",
   "metadata": {},
   "outputs": [],
   "source": [
    "#### Import relevant python packages ####\n",
    "import numpy as np\n",
    "import matplotlib.pyplot as plt"
   ]
  },
  {
   "cell_type": "markdown",
   "id": "8ebdb7d3-43d2-40e1-bf16-39bfcac1fe81",
   "metadata": {},
   "source": [
    "# Vectors in numpy #"
   ]
  },
  {
   "cell_type": "markdown",
   "id": "561ea794-e42c-4921-b81d-2d0053bbed6e",
   "metadata": {},
   "source": [
    "### The 1-dimensional numpy array ###"
   ]
  },
  {
   "cell_type": "markdown",
   "id": "f0ed3497-3165-4c47-8c40-661e8a1cc84a",
   "metadata": {},
   "source": [
    "Below I have an equality of vector $\\vec{v}$ to the following numerical values that make up vector:\n",
    "\n",
    "$$\\vec{v} = [v_1, v_2, v_3]$$\n",
    "\n",
    "\n",
    "$$ \\vec{v} = [ 7 , 7 , 3 ] $$"
   ]
  },
  {
   "cell_type": "markdown",
   "id": "b322d2b1-16c8-42ef-992d-b70e6e5d86ae",
   "metadata": {},
   "source": [
    "In numpy you can create and store a vector using a numpy array using the syntax in the cell below:"
   ]
  },
  {
   "cell_type": "code",
   "execution_count": 7,
   "id": "64a905ae-45bb-4f5e-9564-848912da6116",
   "metadata": {},
   "outputs": [],
   "source": [
    "v = np.array([7,7,3])"
   ]
  },
  {
   "cell_type": "markdown",
   "id": "5d7a3059-8bba-4650-a229-beda6be674dd",
   "metadata": {},
   "source": [
    "### Vector operations in numpy ###"
   ]
  },
  {
   "cell_type": "markdown",
   "id": "59efc280-e3c7-4e8e-b48e-cfada99ae585",
   "metadata": {},
   "source": [
    "#### The Dot product ####"
   ]
  },
  {
   "cell_type": "markdown",
   "id": "c454be91-dd0c-47ac-bcf6-fe026e357629",
   "metadata": {},
   "source": [
    "$$ d = \\vec{v} \\cdot \\vec{u} $$\n",
    "\n",
    "The above equation is equivalent to the following below:\n",
    "\n",
    "$$ d = v_1 \\times u_1 + v_2 \\times u_2 + v_3 \\times u_3 $$\n",
    "\n",
    "Which can be performed in python using the syntax in the cell below (after first defining the $\\vec{u}$):"
   ]
  },
  {
   "cell_type": "code",
   "execution_count": 8,
   "id": "71eed568-34cf-41ee-9e17-c5ed0935ee03",
   "metadata": {},
   "outputs": [],
   "source": [
    "u = np.array([1,1,1])"
   ]
  },
  {
   "cell_type": "code",
   "execution_count": 9,
   "id": "2a4a46e8-f742-4023-a590-43cba2064a5a",
   "metadata": {},
   "outputs": [
    {
     "name": "stdout",
     "output_type": "stream",
     "text": [
      "17\n"
     ]
    }
   ],
   "source": [
    "d = np.dot(v,u)\n",
    "print(d)"
   ]
  },
  {
   "cell_type": "markdown",
   "id": "e355e39c-e1d3-4b3b-80a9-1cbbc1d96881",
   "metadata": {},
   "source": [
    "Note the data type of d. The dot product between two vectors produces a 'scalar' value"
   ]
  },
  {
   "cell_type": "markdown",
   "id": "a2f00a55-e64a-4238-9319-0c5e7c876803",
   "metadata": {},
   "source": [
    "#### The Vector Product ####"
   ]
  },
  {
   "cell_type": "markdown",
   "id": "bd1d193a-aa37-45c9-b052-5cc5354a342a",
   "metadata": {},
   "source": [
    "$$ \\vec{w} = \\vec{v} \\times \\vec{u} $$\n",
    "\n",
    "Note that $\\vec{w}$ has the tiny arrow above the w which is an early indication that $\\vec{w}$ is going to be a vector\n",
    "\n",
    "Which is usually equivalent to the equation below:\n",
    "\n",
    "$$\n",
    "\\vec{w} =\\begin{bmatrix} v_{1} \\\\ v_{2} \\\\ v_{3} \\end{bmatrix} \\times \\begin{bmatrix} u_{1} \\\\ u_{2} \\\\ u_{3} \\end{bmatrix}\n",
    "$$\n",
    "\n",
    "and more explicitly:\n",
    "\n",
    "$$ \\vec{w} = \\begin{bmatrix} (v_2*u_3 - u_2*v_3) \\\\ -(v_1*u_3 - u_1*v_3) \\\\ (v_1*u_2 - v_2*u_1) \\end{bmatrix} $$\n",
    "\n",
    "Which can be performed in python using the syntax in the cell below:"
   ]
  },
  {
   "cell_type": "code",
   "execution_count": 22,
   "id": "54cb1991-5477-4801-88a8-e2f65976ef9f",
   "metadata": {},
   "outputs": [
    {
     "name": "stdout",
     "output_type": "stream",
     "text": [
      "[ 4 -4  0]\n"
     ]
    }
   ],
   "source": [
    "w = np.cross(v,u)\n",
    "print(w)"
   ]
  },
  {
   "cell_type": "markdown",
   "id": "dbd18906-dd94-42c4-9f69-a02a26ac1470",
   "metadata": {},
   "source": [
    "A characteristic of the cross product is the operation of a vector on itself yields a zero vector:\n",
    "\n",
    "$$\\vec{v} \\times \\vec{v} = 0$$\n",
    "\n",
    "This is demonstrated below using the python/numpy syntax:"
   ]
  },
  {
   "cell_type": "code",
   "execution_count": 6,
   "id": "f6b1deda-5929-440b-990b-9593e2478b25",
   "metadata": {},
   "outputs": [
    {
     "name": "stdout",
     "output_type": "stream",
     "text": [
      "[0 0 0]\n"
     ]
    }
   ],
   "source": [
    "v_cross_v = np.cross(v,v)\n",
    "print(v_cross_v)"
   ]
  },
  {
   "cell_type": "markdown",
   "id": "220db42e-44f4-4a70-a074-5753eea43e3e",
   "metadata": {},
   "source": [
    "# Matrices in numpy #"
   ]
  },
  {
   "cell_type": "markdown",
   "id": "8e8d3720-90ce-4a6d-84a5-cafab15a5c4c",
   "metadata": {},
   "source": [
    "## The 2 dimensional numpy array ##"
   ]
  },
  {
   "cell_type": "markdown",
   "id": "a32b64a1-9376-4626-b880-b144016492b0",
   "metadata": {},
   "source": [
    "Below I have an equality of matrix $M$ to the following numerical values that it is composed of:\n",
    "\n",
    "$$ M = \\begin{bmatrix} m_{11} & m_{12} & m_{13} \\\\ m_{21} & m_{22} & m_{23} \\\\ m_{31} & m_{32} & m_{33} \\end{bmatrix} $$\n",
    "\n",
    "$$ M = \\begin{bmatrix} \\sqrt{2}/2 & -\\sqrt{2}/2 & 0 \\\\ \\sqrt{2}/2 & \\sqrt{2}/2 & 0 \\\\ 0 & 0 & 1 \\end{bmatrix} $$\n",
    "\n",
    "In numpy you can create and store a matrix using a numpy array using the syntax in the cell below:"
   ]
  },
  {
   "cell_type": "code",
   "execution_count": 24,
   "id": "102a5696-8a2f-45d9-9353-849df040ae14",
   "metadata": {},
   "outputs": [
    {
     "name": "stdout",
     "output_type": "stream",
     "text": [
      "[[ 0.70710678 -0.70710678  0.        ]\n",
      " [ 0.70710678  0.70710678  0.        ]\n",
      " [ 0.          0.          1.        ]]\n"
     ]
    }
   ],
   "source": [
    "M = np.array([[np.sqrt(2.0)/2.0, -np.sqrt(2.0)/2.0, 0], [np.sqrt(2.0)/2.0, np.sqrt(2.0)/2.0, 0], [0,0,1.0]])\n",
    "print(M)"
   ]
  },
  {
   "cell_type": "markdown",
   "id": "7d77bb3c-e624-4891-b405-58c7067e2be8",
   "metadata": {},
   "source": [
    "I'll also create a matrix $N$ to demonstrate some operations:\n",
    "\n",
    "$$ N = \\begin{bmatrix} n_{11} & n_{12} & n_{13} \\\\ n_{21} & n_{22} & n_{23} \\\\ n_{31} & n_{32} & n_{33} \\end{bmatrix} $$\n",
    "\n",
    "$$ N = \\begin{bmatrix} \\sqrt{3}/2 & -1/2 & 0 \\\\ 1/2 & \\sqrt{3}/2 & 0 \\\\ 0 & 0 & 1 \\end{bmatrix} $$"
   ]
  },
  {
   "cell_type": "code",
   "execution_count": 28,
   "id": "4ae4eae8-8216-454f-8f15-a2cc7eeac934",
   "metadata": {},
   "outputs": [
    {
     "name": "stdout",
     "output_type": "stream",
     "text": [
      "[[ 0.8660254 -0.5        0.       ]\n",
      " [ 0.5        0.8660254  0.       ]\n",
      " [ 0.         0.         1.       ]]\n"
     ]
    }
   ],
   "source": [
    "N = np.array([[np.sqrt(3.0)/2.0, -1.0/2.0, 0], [1.0/2.0, np.sqrt(3.0)/2.0, 0], [0,0,1.0]])\n",
    "print(N)"
   ]
  },
  {
   "cell_type": "markdown",
   "id": "90b023e7-a34d-44db-92b2-b43707bf1fd1",
   "metadata": {},
   "source": [
    "## Multiplying Matrices"
   ]
  },
  {
   "cell_type": "markdown",
   "id": "7e302737-2dba-4ff9-90af-503503c9c89a",
   "metadata": {},
   "source": [
    "$$ M \\times N = \\begin{bmatrix} m_{11} & m_{12} & m_{13} \\\\ m_{21} & m_{22} & m_{23} \\\\ m_{31} & m_{32} & m_{33} \\end{bmatrix} \\times \\begin{bmatrix} n_{11} & n_{12} & n_{13} \\\\ n_{21} & n_{22} & n_{23} \\\\ n_{31} & n_{32} & n_{33} \\end{bmatrix}$$\n",
    "\n",
    "\n",
    "$$\n",
    "M \\times N = \\begin{bmatrix} \n",
    "(m_{11}*n_{11} + m_{12}*n_{21} + m_{13}*n_{31}) & (m_{11}*n_{12} + m_{12}*n_{22} + m_{13}*n_{32}) & (m_{11}*n_{13} + m_{12}*n_{23} + m_{13}*n_{33}) \\\\ (m_{21}*n_{11} + m_{22}*n_{21} + m_{23}*n_{31}) & (m_{21}*n_{12} + m_{22}*n_{22} + m_{23}*n_{32}) & (m_{21}*n_{13} + m_{22}*n_{23} + m_{23}*n_{33}) \\\\\n",
    "(m_{31}*n_{11} + m_{32}*n_{21} + m_{33}*n_{31}) & (m_{31}*n_{12} + m_{32}*n_{22} + m_{33}*n_{32}) & (m_{31}*n_{13} + m_{32}*n_{23} + m_{33}*n_{33})\n",
    "\\end{bmatrix}\n",
    "$$"
   ]
  },
  {
   "cell_type": "code",
   "execution_count": 35,
   "id": "632c3e3e-a083-4b3e-b544-b486ec353137",
   "metadata": {},
   "outputs": [
    {
     "data": {
      "text/plain": [
       "array([[ 0.25881905, -0.96592583,  0.        ],\n",
       "       [ 0.96592583,  0.25881905,  0.        ],\n",
       "       [ 0.        ,  0.        ,  1.        ]])"
      ]
     },
     "execution_count": 35,
     "metadata": {},
     "output_type": "execute_result"
    }
   ],
   "source": [
    "M_times_N = np.dot(M,N)\n",
    "M_times_N"
   ]
  },
  {
   "cell_type": "markdown",
   "id": "d026a77e-127e-4bb6-bf97-b6448d0212a2",
   "metadata": {},
   "source": [
    "#### The above matrices (N, M, and M_times_N) are actually examples of the application of the Rotation Matrix (R) in a 2 dimensional plane.\n",
    "\n",
    "#### In this particular case, it represents a rotation by an angle $\\theta$, of a 3-D cartesian vector [x,y.z] in the X-Y plane (about the z-axis):\n"
   ]
  },
  {
   "cell_type": "markdown",
   "id": "e8541c35-d00c-49e9-b390-2573a352bf49",
   "metadata": {},
   "source": [
    "$$ R(\\theta) = \\begin{bmatrix} \\mathrm{cos}(\\theta) & -\\mathrm{sin}(\\theta) & 0 \\\\ \\mathrm{sin}(\\theta) & \\mathrm{cos}(\\theta) & 0 \\\\ 0 & 0 & 1 \\end{bmatrix} $$"
   ]
  },
  {
   "cell_type": "markdown",
   "id": "90055f52-2523-45f4-bcde-107c68cef25a",
   "metadata": {},
   "source": [
    "#### You can see by the form of $R(\\theta)$ that R is a function of $\\theta$\n",
    "\n",
    "#### We can generalize this function in python by making a function of our own without having to seperately compute and type up each time:"
   ]
  },
  {
   "cell_type": "code",
   "execution_count": 65,
   "id": "83693993-e17a-499b-ac8b-bbcfd603b883",
   "metadata": {},
   "outputs": [],
   "source": [
    "def rotation(theta):\n",
    "    return np.array([[np.round(np.cos(theta)), -np.round(np.sin(theta)), 0], [np.round(np.sin(theta)), np.round(np.cos(theta)), 0], [0, 0, 1]])"
   ]
  },
  {
   "cell_type": "markdown",
   "id": "31524764-fe90-48f4-b467-f06a7f86cfc3",
   "metadata": {},
   "source": [
    "Let's test it out on a 90 [degree] rotation, or \\pi/2 [rad]:"
   ]
  },
  {
   "cell_type": "code",
   "execution_count": 66,
   "id": "fe692c65-d40a-4439-89f0-a6d8967fe409",
   "metadata": {},
   "outputs": [
    {
     "data": {
      "text/plain": [
       "array([[ 0., -1.,  0.],\n",
       "       [ 1.,  0.,  0.],\n",
       "       [ 0.,  0.,  1.]])"
      ]
     },
     "execution_count": 66,
     "metadata": {},
     "output_type": "execute_result"
    }
   ],
   "source": [
    "rotation(np.pi/2.0)"
   ]
  },
  {
   "cell_type": "markdown",
   "id": "4739bbe4-e83d-45dc-9fd0-76195c1f7824",
   "metadata": {},
   "source": [
    "## Problem Set"
   ]
  },
  {
   "cell_type": "markdown",
   "id": "dd9ad57b-65c8-4c31-b562-acb1bd3b1e23",
   "metadata": {},
   "source": [
    "### (Problem 1)\n",
    "\n",
    "#### Compute the dot and the cross product of between all possible vector pairs of a, b, and c:\n",
    "\n",
    "$$a = [3,9.2]$$\n",
    "$$b = [7,1,8]$$\n",
    "$$c = [1,6,5]$$\n",
    "\n",
    "#### Compute these operations by hand and using python\n",
    "#### Make sure you also consider the reverse orders of all operation pairs and consider the following questions:\n",
    "#### Did the forward and reverse order of the operations equal each other?\n",
    "#### Are these operations Commutative?\n",
    "\n",
    "\n"
   ]
  },
  {
   "cell_type": "markdown",
   "id": "4529eba5-e88b-48a6-ae67-d904195598e0",
   "metadata": {},
   "source": [
    "### (Problem 2)\n",
    "#### Multiply matrices M and N by hand and verify the result produced in numpy by np.dot(M,N)"
   ]
  },
  {
   "cell_type": "markdown",
   "id": "29026b18-6422-49d5-80a8-899575303347",
   "metadata": {},
   "source": [
    "### (Problem 3)\n",
    "\n",
    "#### Within the rotation function made just above, there is a function called np.round(). Do a quick search of the numpy documentation and see what it does. You usually can search for it in google or bing by just typing in the search bar \"numpy.round\""
   ]
  },
  {
   "cell_type": "markdown",
   "id": "6c9f1ffc-c2a8-4731-8e30-294ee22944fd",
   "metadata": {},
   "source": [
    "#### (Problem 4)\n",
    "\n",
    "#### The matrices M, N, and M_times_N are all rotation matrices, what rotation angles to they respectively apply? (Hint: You can use np.arccos() or np.arcsin() to help out and you can respond in radians or degrees but be sure to identify the unit, whichever one chosen."
   ]
  },
  {
   "cell_type": "code",
   "execution_count": null,
   "id": "3c05cf82-c042-48aa-b62c-38d97f796d9d",
   "metadata": {},
   "outputs": [],
   "source": []
  }
 ],
 "metadata": {
  "kernelspec": {
   "display_name": "Python 3 (ipykernel)",
   "language": "python",
   "name": "python3"
  },
  "language_info": {
   "codemirror_mode": {
    "name": "ipython",
    "version": 3
   },
   "file_extension": ".py",
   "mimetype": "text/x-python",
   "name": "python",
   "nbconvert_exporter": "python",
   "pygments_lexer": "ipython3",
   "version": "3.11.6"
  }
 },
 "nbformat": 4,
 "nbformat_minor": 5
}
